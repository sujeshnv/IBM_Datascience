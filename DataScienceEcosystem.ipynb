{
 "cells": [
  {
   "cell_type": "markdown",
   "id": "1f3297b4-20f2-4426-b883-1502fb3ec5e5",
   "metadata": {},
   "source": [
    "# Data Science Tools and Ecosystem"
   ]
  },
  {
   "cell_type": "markdown",
   "id": "591ca3af-6de5-4911-922b-114a78df41e7",
   "metadata": {},
   "source": [
    "In this notebook, Data Science Tools and Ecosystem are summarized.\n"
   ]
  },
  {
   "cell_type": "markdown",
   "id": "bd7ece39-5fdc-4f59-b5bf-612d9e64772f",
   "metadata": {},
   "source": [
    "**Objectives:**"
   ]
  },
  {
   "cell_type": "markdown",
   "id": "853fec49-53b3-4d39-9dd6-cf45dab6dd02",
   "metadata": {},
   "source": [
    "- List popular languages for Data Science\n",
    "- List of commonly used libraries used by Data Scientists\n",
    "- List of commonly used data science tools"
   ]
  },
  {
   "cell_type": "markdown",
   "id": "8c4b2fc2-789c-4b26-9267-c7a19a3ed1ff",
   "metadata": {},
   "source": [
    "Some of the popular languages that Data Scientists use are:\n"
   ]
  },
  {
   "cell_type": "markdown",
   "id": "ec75d7df-8416-49a5-bf47-72eef5bbb594",
   "metadata": {},
   "source": [
    "1. Python\n",
    "2. Java\n",
    "3. R"
   ]
  },
  {
   "cell_type": "markdown",
   "id": "fb54a657-f2ab-44df-9d23-ba0b811ac38e",
   "metadata": {},
   "source": [
    "Some of the commonly used libraries used by Data Scientists include:"
   ]
  },
  {
   "cell_type": "markdown",
   "id": "82a85be6-08e4-424c-88f8-3ae762f9f149",
   "metadata": {},
   "source": [
    "1. Numpy\n",
    "2. Panda\n",
    "3. Pytorch"
   ]
  },
  {
   "cell_type": "markdown",
   "id": "cf9c2485-6202-4fa2-9057-eddc30bebf34",
   "metadata": {},
   "source": [
    "|Data Science Tools|\n",
    "|------------------|\n",
    "|pycharm           |\n",
    "|Anaconda          |\n",
    "|Jupyter Notebooks |"
   ]
  },
  {
   "cell_type": "markdown",
   "id": "b04c8fd2-ed49-4d0e-93dd-6c1df7e2cde7",
   "metadata": {},
   "source": [
    "### Below are a few examples of evaluating arithmetic expressions in Python"
   ]
  },
  {
   "cell_type": "markdown",
   "id": "ea4a7481-e253-4403-8e73-fb1eb291f5bb",
   "metadata": {},
   "source": [
    "This a simple arithmetic expression to mutiply then add integers"
   ]
  },
  {
   "cell_type": "code",
   "execution_count": 1,
   "id": "e3779ac1-00c6-4e5b-82cf-0d017d53ce14",
   "metadata": {
    "tags": []
   },
   "outputs": [
    {
     "data": {
      "text/plain": [
       "17"
      ]
     },
     "execution_count": 1,
     "metadata": {},
     "output_type": "execute_result"
    }
   ],
   "source": [
    "(3*4)+5"
   ]
  },
  {
   "cell_type": "markdown",
   "id": "cc33c5f4-d1b3-4698-9df3-e9254c3c4012",
   "metadata": {},
   "source": [
    "This will convert 200 minutes to hours by diving by 60"
   ]
  },
  {
   "cell_type": "code",
   "execution_count": 2,
   "id": "715f0028-b2de-45d8-bb65-71a62eb2a6fd",
   "metadata": {
    "tags": []
   },
   "outputs": [
    {
     "data": {
      "text/plain": [
       "3.3333333333333335"
      ]
     },
     "execution_count": 2,
     "metadata": {},
     "output_type": "execute_result"
    }
   ],
   "source": [
    "200/60"
   ]
  },
  {
   "cell_type": "markdown",
   "id": "acbb7a77-bb2f-4d51-9714-30bf3e5951db",
   "metadata": {},
   "source": [
    "## Author "
   ]
  },
  {
   "cell_type": "markdown",
   "id": "f8effd24-7af2-4463-9b3f-14ba8cc22c05",
   "metadata": {},
   "source": [
    "Sujesh Nitoor Veetil"
   ]
  },
  {
   "cell_type": "code",
   "execution_count": null,
   "id": "c9ae3409-3218-4784-bf9f-b7687f5525ed",
   "metadata": {},
   "outputs": [],
   "source": []
  }
 ],
 "metadata": {
  "kernelspec": {
   "display_name": "Python",
   "language": "python",
   "name": "conda-env-python-py"
  },
  "language_info": {
   "codemirror_mode": {
    "name": "ipython",
    "version": 3
   },
   "file_extension": ".py",
   "mimetype": "text/x-python",
   "name": "python",
   "nbconvert_exporter": "python",
   "pygments_lexer": "ipython3",
   "version": "3.7.12"
  }
 },
 "nbformat": 4,
 "nbformat_minor": 5
}
